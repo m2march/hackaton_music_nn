{
 "cells": [
  {
   "cell_type": "code",
   "execution_count": 1,
   "metadata": {
    "collapsed": false
   },
   "outputs": [
    {
     "name": "stdout",
     "output_type": "stream",
     "text": [
      "Populating the interactive namespace from numpy and matplotlib\n"
     ]
    }
   ],
   "source": [
    "%pylab inline"
   ]
  },
  {
   "cell_type": "code",
   "execution_count": 2,
   "metadata": {
    "collapsed": false
   },
   "outputs": [],
   "source": [
    "from __future__ import print_function, division"
   ]
  },
  {
   "cell_type": "markdown",
   "metadata": {},
   "source": [
    "## Preambulo"
   ]
  },
  {
   "cell_type": "code",
   "execution_count": 14,
   "metadata": {
    "collapsed": false
   },
   "outputs": [],
   "source": [
    "# Verificando que está el dataset\n",
    "import os\n",
    "from drums_classifier_utils import prep_dataset\n",
    "if not os.path.isdir('drums'):\n",
    "    prep_dataset() "
   ]
  },
  {
   "cell_type": "code",
   "execution_count": 24,
   "metadata": {
    "collapsed": false
   },
   "outputs": [],
   "source": [
    "# Leyendo el dataset\n",
    "from scipy.io import wavfile\n",
    "max_duration = 1000  # ms\n",
    "drum_types = ['crash', 'tom', 'hat', 'snare', 'kick']\n",
    "\n",
    "all_dirs = [d_dir for d_dir in os.listdir('drums') if os.path.isdir(os.path.join('drums', d_dir))]\n",
    "all_wavs = [os.path.join('drums', d_dir, wf)\n",
    "            for d_dir in all_dirs \n",
    "            for wf in os.listdir(os.path.join('drums', d_dir)) if wf.endswith('.wav')]\n",
    "\n",
    "metadata = []\n",
    "for wf in all_wavs:\n",
    "    try:\n",
    "        sr, wav = wavfile.read(wf)\n",
    "    except Exception as e:\n",
    "        continue\n",
    "        \n",
    "    dur = len(wav) / float(sr) * 1000\n",
    "    if dur > max_duration:\n",
    "        continue\n",
    "        \n",
    "    category = 'None'\n",
    "    for dt in drum_types:\n",
    "        if wf.find(dt) > 0:\n",
    "            category = dt\n",
    "    \n",
    "    metadata.append({\n",
    "        \"filename\": wf,\n",
    "        \"category\": category,\n",
    "        \"sr\": sr,\n",
    "        \"ch\": wav.shape[1] if len(wav.shape) > 1 else 1,\n",
    "        \"dur\": dur,\n",
    "    })\n"
   ]
  },
  {
   "cell_type": "code",
   "execution_count": 29,
   "metadata": {
    "collapsed": false
   },
   "outputs": [],
   "source": [
    "global_sr = metadata[0]\n",
    "classes = drum_types\n",
    "classes_n = len(classes)\n",
    "\n",
    "type_translate = dict([(dt, idx) for idx, dt in enumerate(classes)])\n",
    "def to_one_hot(dt):\n",
    "    ret = np.zeros(classes_n)\n",
    "    ret[type_translate[dt]] = 1\n",
    "    return ret\n",
    "\n",
    "def to_signal(wf):\n",
    "    ret = np.zeros(global_sr)\n",
    "    sig = wavfile.read(wf)[1]\n",
    "    ret[:len(sig)] = sig\n",
    "    return ret"
   ]
  },
  {
   "cell_type": "code",
   "execution_count": 33,
   "metadata": {
    "collapsed": false
   },
   "outputs": [
    {
     "name": "stdout",
     "output_type": "stream",
     "text": [
      "{'category': 'None', 'sr': 44100, 'dur': 311.54195011337873, 'ch': 1, 'filename': 'drums/Simmons SD-8/MaxV - SQSM-01.wav'}\n"
     ]
    },
    {
     "ename": "TypeError",
     "evalue": "expected sequence object with len >= 0 or a single integer",
     "output_type": "error",
     "traceback": [
      "\u001b[0;31m---------------------------------------------------------------------------\u001b[0m",
      "\u001b[0;31mTypeError\u001b[0m                                 Traceback (most recent call last)",
      "\u001b[0;32m<ipython-input-33-f2743a5a1702>\u001b[0m in \u001b[0;36m<module>\u001b[0;34m()\u001b[0m\n\u001b[1;32m      4\u001b[0m signal_one_hot_type = [(to_signal(md['filename']), to_one_hot(md['category']))  \n\u001b[1;32m      5\u001b[0m                        \u001b[0;32mfor\u001b[0m \u001b[0mmd\u001b[0m \u001b[0;32min\u001b[0m \u001b[0mmetadata\u001b[0m\u001b[0;34m\u001b[0m\u001b[0m\n\u001b[0;32m----> 6\u001b[0;31m                        if md['category'] != 'None']\n\u001b[0m",
      "\u001b[0;32m<ipython-input-29-118df3f0ccaa>\u001b[0m in \u001b[0;36mto_signal\u001b[0;34m(wf)\u001b[0m\n\u001b[1;32m     11\u001b[0m \u001b[0;32mdef\u001b[0m \u001b[0mto_signal\u001b[0m\u001b[0;34m(\u001b[0m\u001b[0mwf\u001b[0m\u001b[0;34m)\u001b[0m\u001b[0;34m:\u001b[0m\u001b[0;34m\u001b[0m\u001b[0m\n\u001b[1;32m     12\u001b[0m     \u001b[0;32mprint\u001b[0m\u001b[0;34m(\u001b[0m\u001b[0mglobal_sr\u001b[0m\u001b[0;34m)\u001b[0m\u001b[0;34m\u001b[0m\u001b[0m\n\u001b[0;32m---> 13\u001b[0;31m     \u001b[0mret\u001b[0m \u001b[0;34m=\u001b[0m \u001b[0mnp\u001b[0m\u001b[0;34m.\u001b[0m\u001b[0mzeros\u001b[0m\u001b[0;34m(\u001b[0m\u001b[0mglobal_sr\u001b[0m\u001b[0;34m)\u001b[0m\u001b[0;34m\u001b[0m\u001b[0m\n\u001b[0m\u001b[1;32m     14\u001b[0m     \u001b[0msig\u001b[0m \u001b[0;34m=\u001b[0m \u001b[0mwavfile\u001b[0m\u001b[0;34m.\u001b[0m\u001b[0mread\u001b[0m\u001b[0;34m(\u001b[0m\u001b[0mwf\u001b[0m\u001b[0;34m)\u001b[0m\u001b[0;34m[\u001b[0m\u001b[0;36m1\u001b[0m\u001b[0;34m]\u001b[0m\u001b[0;34m\u001b[0m\u001b[0m\n\u001b[1;32m     15\u001b[0m     \u001b[0mret\u001b[0m\u001b[0;34m[\u001b[0m\u001b[0;34m:\u001b[0m\u001b[0mlen\u001b[0m\u001b[0;34m(\u001b[0m\u001b[0msig\u001b[0m\u001b[0;34m)\u001b[0m\u001b[0;34m]\u001b[0m \u001b[0;34m=\u001b[0m \u001b[0msig\u001b[0m\u001b[0;34m\u001b[0m\u001b[0m\n",
      "\u001b[0;31mTypeError\u001b[0m: expected sequence object with len >= 0 or a single integer"
     ]
    }
   ],
   "source": [
    "# :: [(señal :: [int], clase en one hot :: [00010])]\n",
    "# Señales de audios todos durando 1 segundo con mismo sample rate.\n",
    "# No está la clase 'Others' o None. \n",
    "signal_one_hot_type = [(to_signal(md['filename']), to_one_hot(md['category']))  \n",
    "                       for md in metadata\n",
    "                       if md['category'] != 'None']"
   ]
  },
  {
   "cell_type": "code",
   "execution_count": null,
   "metadata": {
    "collapsed": true
   },
   "outputs": [],
   "source": []
  }
 ],
 "metadata": {
  "kernelspec": {
   "display_name": "Python [default]",
   "language": "python",
   "name": "python2"
  },
  "language_info": {
   "codemirror_mode": {
    "name": "ipython",
    "version": 2
   },
   "file_extension": ".py",
   "mimetype": "text/x-python",
   "name": "python",
   "nbconvert_exporter": "python",
   "pygments_lexer": "ipython2",
   "version": "2.7.12"
  }
 },
 "nbformat": 4,
 "nbformat_minor": 1
}
